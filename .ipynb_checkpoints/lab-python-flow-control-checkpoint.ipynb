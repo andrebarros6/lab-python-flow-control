{
 "cells": [
  {
   "cell_type": "markdown",
   "id": "d3bfc191-8885-42ee-b0a0-bbab867c6f9f",
   "metadata": {
    "tags": []
   },
   "source": [
    "# Lab | Flow Control"
   ]
  },
  {
   "cell_type": "markdown",
   "id": "3851fcd1-cf98-4653-9c89-e003b7ec9400",
   "metadata": {},
   "source": [
    "## Exercise: Managing Customer Orders Optimized\n",
    "\n",
    "In the last lab, you were starting an online store that sells various products. To ensure smooth operations, you developed a program that manages customer orders and inventory.\n",
    "\n",
    "You did so without using flow control. Let's go a step further and improve this code.\n",
    "\n",
    "Follow the steps below to complete the exercise:\n",
    "\n",
    "1. Look at your code from the lab data structures, and improve repeated code with loops.\n",
    "\n",
    "2. Instead of asking the user to input the name of three products that a customer wants to order, do the following:\n",
    "    \n",
    "    a. Prompt the user to enter the name of a product that a customer wants to order.\n",
    "    \n",
    "    b. Add the product name to the \"customer_orders\" set.\n",
    "    \n",
    "    c. Ask the user if they want to add another product (yes/no).\n",
    "    \n",
    "    d. Continue the loop until the user does not want to add another product.\n",
    "\n",
    "3. Instead of updating the inventory by subtracting 1 from the quantity of each product, only do it for  the products that were ordered (those in \"customer_orders\")."
   ]
  },
  {
   "cell_type": "code",
   "execution_count": null,
   "id": "423e1997-4075-4d59-812c-a066fc9f9add",
   "metadata": {},
   "outputs": [],
   "source": [
    "#1. From lab_python_data_structures\n",
    "#1.1\n",
    "products = [\"t-shirt\", \"mug\", \"hat\", \"book\", \"keychain\"] \n",
    "#1.2\n",
    "inventory = {} \n",
    "#1.3\n",
    "for product in products:\n",
    "    qtt = int(input(f\"Enter the quantity of {product}: \"))\n",
    "    inventory[product] = qtt"
   ]
  },
  {
   "cell_type": "code",
   "execution_count": null,
   "id": "d5c7e598-13ad-466b-8d2b-75fa4376e699",
   "metadata": {},
   "outputs": [],
   "source": [
    "#1.4\n",
    "customer_orders = set()\n",
    "\n",
    "#1.5\n",
    "# ask user for the name of product to be ordered\n",
    "print(\"Choose 3 products from the product list:\")\n",
    "\n",
    "while len(customer_orders) < 3:\n",
    "    user_product = input(\"Enter 1 product: \")\n",
    "    # verify if it is in the list of products\n",
    "    if user_product in products:\n",
    "        # if yes add to the list and ask for another product\n",
    "        customer_orders.add(user_product)\n",
    "    # if not ask the user to repeat\n",
    "    else:\n",
    "        print(\"Product not in the list\")"
   ]
  },
  {
   "cell_type": "code",
   "execution_count": null,
   "id": "ffa37428-df48-4e45-a023-13fd429fc59b",
   "metadata": {},
   "outputs": [
    {
     "name": "stdin",
     "output_type": "stream",
     "text": [
      "Enter the quantity of t-shirt:  65\n",
      "Enter the quantity of mug:  45\n",
      "Enter the quantity of hat:  23\n",
      "Enter the quantity of book:  15\n",
      "Enter the quantity of keychain:  78\n"
     ]
    },
    {
     "name": "stdout",
     "output_type": "stream",
     "text": [
      "Choose 3 products from the product list:\n"
     ]
    },
    {
     "name": "stdin",
     "output_type": "stream",
     "text": [
      "Enter 1 product:  hat\n",
      "Enter 1 product:  mug\n",
      "Enter 1 product:  tshitrt\n"
     ]
    },
    {
     "name": "stdout",
     "output_type": "stream",
     "text": [
      "Product not in the list\n"
     ]
    },
    {
     "name": "stdin",
     "output_type": "stream",
     "text": [
      "Enter 1 product:  t-shirt\n"
     ]
    },
    {
     "name": "stdout",
     "output_type": "stream",
     "text": [
      "{'t-shirt', 'mug', 'hat'}\n",
      "Order Statistics: \n",
      "Total Products Ordered: 3\n",
      "Percentage of Products Ordered: 60.0%\n"
     ]
    }
   ],
   "source": [
    "#1.6 \n",
    "print(customer_orders)\n",
    "\n",
    "#1.7\n",
    "#Total Products Ordered: The total number of products in the customer_orders set.\n",
    "total_prod_ordered = len(customer_orders)\n",
    "#Percentage of Products Ordered: The percentage of products ordered compared to the total available products.\n",
    "total_products = 0\n",
    "for i in inventory:\n",
    "    total_products += inventory[i]\n",
    "    \n",
    "percentage = (total_prod_ordered / total_products) * 100\n",
    "#Store these statistics in a tuple called order_status.\n",
    "order_status = (total_prod_ordered, percentage)\n",
    "\n",
    "#1.8. Print the order statistics using the following format:\n",
    "print(\"Order Statistics: \")\n",
    "print(\"Total Products Ordered:\", total_prod_ordered)\n",
    "print(f\"Percentage of Products Ordered: {percentage}%\")"
   ]
  },
  {
   "cell_type": "code",
   "execution_count": null,
   "id": "3229cc42-717e-4229-877a-a63da93254a9",
   "metadata": {},
   "outputs": [],
   "source": [
    "#1.9. Update the inventory by subtracting 1 from the quantity of each product. Modify the inventory dictionary accordingly.\n",
    "for product in customer_orders:\n",
    "    inventory[product] -= 1"
   ]
  },
  {
   "cell_type": "code",
   "execution_count": null,
   "id": "1e9a9546-8c5e-4f7b-8d6d-393c6afc8eca",
   "metadata": {},
   "outputs": [],
   "source": [
    "#1.10. Print the updated inventory, displaying the quantity of each product on separate lines.\n",
    "for product in inventory:\n",
    "     print(f\"After the order, there are {inventory[product]} of {product}.\")\n"
   ]
  },
  {
   "cell_type": "code",
   "execution_count": 12,
   "id": "a25be74f-67f7-46da-b967-f857991c6c6b",
   "metadata": {},
   "outputs": [
    {
     "name": "stdin",
     "output_type": "stream",
     "text": [
      "Enter the name of a product the customer wants to order:  hat\n",
      "Do you want to add another product (yes/no) ye\n",
      "Didn't understand. Please repeat. Do you want to add another product (yes/no) yes\n",
      "Enter the name of a product the customer wants to order:  mug\n",
      "Do you want to add another product (yes/no) no\n",
      "Didn't understand. Please repeat. Do you want to add another product (yes/no) no\n"
     ]
    }
   ],
   "source": [
    "# 2. Instead of asking the user to input the name of three products that a customer wants to order, do the following:\n",
    "#     a. Prompt the user to enter the name of a product that a customer wants to order.\n",
    "#     b. Add the product name to the \"customer_orders\" set.\n",
    "#     c. Ask the user if they want to add another product (yes/no).\n",
    "#     d. Continue the loop until the user does not want to add another product.\n",
    "more_products = \"yes\"\n",
    "customer_orders = set()\n",
    "while more_products != \"no\":\n",
    "    user_product = input(\"Enter the name of a product the customer wants to order: \")\n",
    "    customer_orders.add(user_product)\n",
    "    more_products = input(\"Do you want to add another product (yes/no)\")\n",
    "    if more_products == \"yes\":\n",
    "        pass\n",
    "    elif more_products == \"no\":\n",
    "        pass\n",
    "    else:\n",
    "        more_products = input(\"Didn't understand. Please repeat. Do you want to add another product (yes/no)\")\n"
   ]
  },
  {
   "cell_type": "code",
   "execution_count": 20,
   "id": "95e52238-ccd0-408b-b175-8ffd263d0cba",
   "metadata": {},
   "outputs": [
    {
     "data": {
      "text/plain": [
       "{'t-shirt': 65, 'mug': 40, 'hat': 23, 'book': 15, 'keychain': 78}"
      ]
     },
     "execution_count": 20,
     "metadata": {},
     "output_type": "execute_result"
    }
   ],
   "source": [
    "# 3. Instead of updating the inventory by subtracting 1 from the quantity of each product, \n",
    "# only do it for the products that were ordered (those in \"customer_orders\").\n",
    "\n",
    "# go through each product in customer_orders\n",
    "# check if they are in the inventory\n",
    "# subtract 1 from the amount in inventory\n",
    "\n",
    "for product in customer_orders:\n",
    "    if product in inventory:\n",
    "        inventory[product] -= 1\n",
    "\n",
    "inventory\n"
   ]
  }
 ],
 "metadata": {
  "kernelspec": {
   "display_name": "Python 3 (ipykernel)",
   "language": "python",
   "name": "python3"
  },
  "language_info": {
   "codemirror_mode": {
    "name": "ipython",
    "version": 3
   },
   "file_extension": ".py",
   "mimetype": "text/x-python",
   "name": "python",
   "nbconvert_exporter": "python",
   "pygments_lexer": "ipython3",
   "version": "3.13.1"
  }
 },
 "nbformat": 4,
 "nbformat_minor": 5
}
